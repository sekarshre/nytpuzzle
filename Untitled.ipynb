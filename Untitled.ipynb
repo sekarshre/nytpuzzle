{
 "cells": [
  {
   "cell_type": "code",
   "execution_count": 107,
   "metadata": {},
   "outputs": [],
   "source": [
    "import numpy as np\n",
    "import re\n",
    "import matplotlib.pyplot as plt\n",
    "import csv\n",
    "from itertools import izip"
   ]
  },
  {
   "cell_type": "code",
   "execution_count": 101,
   "metadata": {},
   "outputs": [],
   "source": [
    "with open (\"extracted.dat\", \"r\") as myfile:\n",
    "    data = myfile.read()"
   ]
  },
  {
   "cell_type": "code",
   "execution_count": 102,
   "metadata": {},
   "outputs": [],
   "source": [
    "match=re.findall(r'y2=\\\"[\\d.]+',data)\n",
    "el = []\n",
    "for numba in match:\n",
    "    el.append(re.sub('y2','ytwo',numba))"
   ]
  },
  {
   "cell_type": "code",
   "execution_count": 103,
   "metadata": {},
   "outputs": [
    {
     "name": "stdout",
     "output_type": "stream",
     "text": [
      "[198.23320553425572, 164.70261710285047, 353.8091348558093, 406.017836306051, 424.3208868144691, 394.8409734955826, 413.44407401233536, 396.7162860476746, 415.16936156026003, 419.8951491915319, 357.8598099683281, 396.4162360393399, 378.41323553925656, 409.1683613935656, 400.7669611601934, 356.43457242873814, 402.267211201867, 378.4882480413402, 381.7137856309385, 398.0665110851809, 339.9318219703284, 391.91548591431905, 177.52975495915985, 375.26271045174195, 395.06601100183366, 361.9854975829305, 413.6691115185864, 388.83997332888816, 398.96666111018504, 416.5195865977663, 362.4355725954326, 421.9204867477913, 384.86431071845305, 0, 313.07734622437073, 383.9641606934489, 404.5925987664611, 385.5394232372062, 411.41873645607603, 427.4714119019837, 351.1836972828805, 421.6204367394566, 388.83997332888816, 411.26871145190864, 340.5319219869979, 389.74012335389233, 417.7197866311052, 415.8444740790132, 418.16986164360725, 430.3218869811635, 224.93765627604603, 423.19569928321386, 427.7714619103184, 434.14752458743123, 433.09734955825974, 424.4709118186364, 433.5474245707618, 435.12268711451907, 439.02333722287045, 442.6239373228872, 424.6209368228038, 443.67411235205867, 438.0481746957826, 439.02333722287045, 439.84847474579095, 434.44757459576596, 356.8846474412402, 413.5190865144191, 443.1490248374729, 438.8733122187031, 442.17386231038506, 445.39939989998334, 436.9229871645274, 441.12368728121356, 445.9244874145691, 421.9204867477913, 442.7739623270545, 436.9229871645274, 444.4242373728955, 447.19969994999167, 445.39939989998334, 447.72478746457745, 447.6497749624937, 447.6497749624937, 447.8748124687448, 447.124687447908, 447.349724954159, 446.89964994165695, 443.0740123353892, 447.0496749458243, 446.89964994165695, 448.6999499916653, 448.5499249874979, 448.6249374895816, 448.77496249374894, 448.6249374895816, 448.6249374895816, 448.24987497916317, 448.02483747291217, 440.82363727287884, 438.2732122020337]\n"
     ]
    }
   ],
   "source": [
    "y2 = []\n",
    "for numba in el:\n",
    "    match = re.search(r'\\d.+',numba)\n",
    "    y2.append(float(match.group()))\n",
    "y2.insert(33,0)\n",
    "print(y2)"
   ]
  },
  {
   "cell_type": "code",
   "execution_count": 104,
   "metadata": {},
   "outputs": [],
   "source": [
    "match=re.findall(r'y1=\\\"[\\d.]+',data)\n",
    "el = []\n",
    "for numba in match:\n",
    "    el.append(re.sub('y1','yone',numba))\n",
    "y1 = []\n",
    "for numba in el:\n",
    "    match = re.search(r'\\d.+',numba)\n",
    "    y1.append(float(match.group()))"
   ]
  },
  {
   "cell_type": "code",
   "execution_count": 106,
   "metadata": {},
   "outputs": [
    {
     "data": {
      "image/png": "[encoded data removed]",
      "text/plain": [
       "<matplotlib.figure.Figure at 0x7f7df786f850>"
      ]
     },
     "metadata": {},
     "output_type": "display_data"
    },
    {
     "name": "stdout",
     "output_type": "stream",
     "text": [
      "0\n"
     ]
    }
   ],
   "source": [
    "height = np.absolute(np.array(y2)-np.array(y1))\n",
    "total=np.sum(height)\n",
    "height = height/total\n",
    "x = range(0,101)\n",
    "plt.bar(x,height)\n",
    "plt.show()\n",
    "print(min(y2))"
   ]
  },
  {
   "cell_type": "code",
   "execution_count": 116,
   "metadata": {},
   "outputs": [],
   "source": [
    "population = np.round(height*61140)\n",
    "with open('rawdata.csv', 'wb') as f:\n",
    "    writer = csv.writer(f)\n",
    "    writer.writerows(izip(x, population))"
   ]
  }
 ],
 "metadata": {
  "kernelspec": {
   "display_name": "Python 2",
   "language": "python",
   "name": "python2"
  },
  "language_info": {
   "codemirror_mode": {
    "name": "ipython",
    "version": 2
   },
   "file_extension": ".py",
   "mimetype": "text/x-python",
   "name": "python",
   "nbconvert_exporter": "python",
   "pygments_lexer": "ipython2",
   "version": "2.7.12"
  }
 },
 "nbformat": 4,
 "nbformat_minor": 2
}
